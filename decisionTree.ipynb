{
 "cells": [
  {
   "cell_type": "code",
   "execution_count": 1,
   "id": "7f23b93e-f892-4279-a8ce-fe06cb3cbcbf",
   "metadata": {},
   "outputs": [],
   "source": [
    "import numpy as np\n",
    "import pandas as pd"
   ]
  },
  {
   "cell_type": "code",
   "execution_count": 2,
   "id": "dc48eae9-66ba-4b13-97ce-d527cd008155",
   "metadata": {},
   "outputs": [
    {
     "data": {
      "text/html": [
       "<div>\n",
       "<style scoped>\n",
       "    .dataframe tbody tr th:only-of-type {\n",
       "        vertical-align: middle;\n",
       "    }\n",
       "\n",
       "    .dataframe tbody tr th {\n",
       "        vertical-align: top;\n",
       "    }\n",
       "\n",
       "    .dataframe thead th {\n",
       "        text-align: right;\n",
       "    }\n",
       "</style>\n",
       "<table border=\"1\" class=\"dataframe\">\n",
       "  <thead>\n",
       "    <tr style=\"text-align: right;\">\n",
       "      <th></th>\n",
       "      <th>sepal_length</th>\n",
       "      <th>sepal_width</th>\n",
       "      <th>petal_length</th>\n",
       "      <th>petal_width</th>\n",
       "      <th>type</th>\n",
       "    </tr>\n",
       "  </thead>\n",
       "  <tbody>\n",
       "    <tr>\n",
       "      <th>1</th>\n",
       "      <td>5.1</td>\n",
       "      <td>3.5</td>\n",
       "      <td>1.4</td>\n",
       "      <td>0.2</td>\n",
       "      <td>Iris-setosa</td>\n",
       "    </tr>\n",
       "    <tr>\n",
       "      <th>2</th>\n",
       "      <td>4.9</td>\n",
       "      <td>3.0</td>\n",
       "      <td>1.4</td>\n",
       "      <td>0.2</td>\n",
       "      <td>Iris-setosa</td>\n",
       "    </tr>\n",
       "    <tr>\n",
       "      <th>3</th>\n",
       "      <td>4.7</td>\n",
       "      <td>3.2</td>\n",
       "      <td>1.3</td>\n",
       "      <td>0.2</td>\n",
       "      <td>Iris-setosa</td>\n",
       "    </tr>\n",
       "    <tr>\n",
       "      <th>4</th>\n",
       "      <td>4.6</td>\n",
       "      <td>3.1</td>\n",
       "      <td>1.5</td>\n",
       "      <td>0.2</td>\n",
       "      <td>Iris-setosa</td>\n",
       "    </tr>\n",
       "    <tr>\n",
       "      <th>5</th>\n",
       "      <td>5.0</td>\n",
       "      <td>3.6</td>\n",
       "      <td>1.4</td>\n",
       "      <td>0.2</td>\n",
       "      <td>Iris-setosa</td>\n",
       "    </tr>\n",
       "    <tr>\n",
       "      <th>6</th>\n",
       "      <td>5.4</td>\n",
       "      <td>3.9</td>\n",
       "      <td>1.7</td>\n",
       "      <td>0.4</td>\n",
       "      <td>Iris-setosa</td>\n",
       "    </tr>\n",
       "    <tr>\n",
       "      <th>7</th>\n",
       "      <td>4.6</td>\n",
       "      <td>3.4</td>\n",
       "      <td>1.4</td>\n",
       "      <td>0.3</td>\n",
       "      <td>Iris-setosa</td>\n",
       "    </tr>\n",
       "    <tr>\n",
       "      <th>8</th>\n",
       "      <td>5.0</td>\n",
       "      <td>3.4</td>\n",
       "      <td>1.5</td>\n",
       "      <td>0.2</td>\n",
       "      <td>Iris-setosa</td>\n",
       "    </tr>\n",
       "    <tr>\n",
       "      <th>9</th>\n",
       "      <td>4.4</td>\n",
       "      <td>2.9</td>\n",
       "      <td>1.4</td>\n",
       "      <td>0.2</td>\n",
       "      <td>Iris-setosa</td>\n",
       "    </tr>\n",
       "    <tr>\n",
       "      <th>10</th>\n",
       "      <td>4.9</td>\n",
       "      <td>3.1</td>\n",
       "      <td>1.5</td>\n",
       "      <td>0.1</td>\n",
       "      <td>Iris-setosa</td>\n",
       "    </tr>\n",
       "  </tbody>\n",
       "</table>\n",
       "</div>"
      ],
      "text/plain": [
       "    sepal_length  sepal_width  petal_length  petal_width         type\n",
       "1            5.1          3.5           1.4          0.2  Iris-setosa\n",
       "2            4.9          3.0           1.4          0.2  Iris-setosa\n",
       "3            4.7          3.2           1.3          0.2  Iris-setosa\n",
       "4            4.6          3.1           1.5          0.2  Iris-setosa\n",
       "5            5.0          3.6           1.4          0.2  Iris-setosa\n",
       "6            5.4          3.9           1.7          0.4  Iris-setosa\n",
       "7            4.6          3.4           1.4          0.3  Iris-setosa\n",
       "8            5.0          3.4           1.5          0.2  Iris-setosa\n",
       "9            4.4          2.9           1.4          0.2  Iris-setosa\n",
       "10           4.9          3.1           1.5          0.1  Iris-setosa"
      ]
     },
     "execution_count": 2,
     "metadata": {},
     "output_type": "execute_result"
    }
   ],
   "source": [
    "col_names=['sepal_length','sepal_width','petal_length','petal_width','type']\n",
    "data=pd.read_csv(\"Iris.csv\",skiprows=1,header=None,names=col_names)\n",
    "data.head(10)"
   ]
  },
  {
   "cell_type": "markdown",
   "id": "62982578-0697-4e9c-9f9a-b76bda80148b",
   "metadata": {},
   "source": [
    "# Node class"
   ]
  },
  {
   "cell_type": "code",
   "execution_count": 22,
   "id": "35a5ff97-799d-4092-a545-9c843e5fc468",
   "metadata": {},
   "outputs": [],
   "source": [
    "class Node():\n",
    "    def __init__(self,feat_ind=None,thr=None,left=None,right=None,info_gain=None,value=None):\n",
    "        self.feat_ind=feat_ind\n",
    "        self.thr=thr\n",
    "        self.left=left\n",
    "        self.right=right\n",
    "        self.info_gain=info_gain\n",
    "        self.value=value"
   ]
  },
  {
   "cell_type": "code",
   "execution_count": 16,
   "id": "b63c740d-4907-4714-b79e-e9387ea78204",
   "metadata": {},
   "outputs": [],
   "source": [
    "class DecisionTreeClassifier():\n",
    "    def __init__(self,min=2,max_depth=2):\n",
    "        self.root=None\n",
    "        self.min=min\n",
    "        self.max_depth=max_depth\n",
    "    def build_tree(self,dataset,curr_depth=0):\n",
    "        X,Y=dataset[:,:-1],dataset[:,-1]\n",
    "        num_sam,num_feat=np.shape(X)\n",
    "        if num_sam>=self.min and curr_depth<=self.max_depth:\n",
    "            best_split=self.get_best_split(dataset,num_sam,num_feat)\n",
    "            if best_split[\"info_gain\"]>0:\n",
    "                left_subtree=self.build_tree(best_split[\"data_left\"],curr_depth+1)\n",
    "                right_subtree=self.build_tree(best_split[\"data_right\"],curr_depth+1)\n",
    "                return Node(best_split[\"feat_ind\"],best_split[\"thr\"],left_subtree,right_subtree,best_split[\"info_gain\"])\n",
    "        leaf_value=self.leaf_val(Y)\n",
    "        return Node(value=leaf_value)\n",
    "    def get_best_split(self,dataset,num_sam,num_feat):\n",
    "        best_split={}\n",
    "        max_info_gain=-float(\"inf\")\n",
    "        for feat_ind in range(num_feat):\n",
    "            feat_values=dataset[:,feat_ind]\n",
    "            poss_thr=np.unique(feat_values)\n",
    "            for thr in poss_thr:\n",
    "                dataset_left,dataset_right=self.split(dataset,feat_ind,thr)\n",
    "                if len(dataset_left)>0 and len(dataset_right)>0:\n",
    "                    y,left_y,right_y=dataset[:,-1],dataset_left[:,-1],dataset_right[:,-1]\n",
    "                    curr_info_gain=self.information_gain(y,left_y,right_y)\n",
    "                    if curr_info_gain>max_info_gain:\n",
    "                        best_split[\"feat_ind\"]=feat_ind\n",
    "                        best_split[\"thr\"]=thr\n",
    "                        best_split[\"data_left\"]=dataset_left\n",
    "                        best_split[\"data_right\"]=dataset_right\n",
    "                        best_split[\"info_gain\"]=curr_info_gain\n",
    "                        max_info_gain=curr_info_gain\n",
    "        return best_split\n",
    "    def split(self,dataset,feat_ind,thr):\n",
    "        dataset_left=np.array([row for row in dataset if row[feat_ind]<=thr])\n",
    "        dataset_right=np.array([row for row in dataset if row[feat_ind]>thr])\n",
    "        return dataset_left,dataset_right\n",
    "    def information_gain(self,parent,l_child,r_child):\n",
    "        weight_l=len(l_child)/len(parent)\n",
    "        weight_r=len(r_child)/len(parent)\n",
    "        return self.gini_ind(parent)-(weight_l*self.gini_ind(l_child)+weight_r*self.gini_ind(r_child))\n",
    "    def gini_ind(self,y):\n",
    "        class_labels=np.unique(y)\n",
    "        gini=0\n",
    "        for cls in class_labels:\n",
    "            gini+=(len(y[y==cls])/len(y))**2\n",
    "        return 1-gini\n",
    "    def leaf_val(self,y):\n",
    "        y=list(y)\n",
    "        return max(y,key=y.count)\n",
    "    def fit(self,x,y):\n",
    "        dataset=np.concatenate((x,y),axis=1)\n",
    "        self.root=self.build_tree(dataset)\n",
    "    def predict(self,x):\n",
    "        return [self.make_prediction(X,self.root) for X in x]\n",
    "    def make_prediction(self,x,tree):\n",
    "        if tree.value!=None: return tree.value\n",
    "        feat_val=x[tree.feat_ind]\n",
    "        if feat_val<=tree.thr:\n",
    "            return self.make_prediction(x,tree.left)\n",
    "        else:\n",
    "            return self.make_prediction(x,tree.right)\n",
    "    def print_tree(self,tree=None,indent=\" \"):\n",
    "        if not tree:\n",
    "            tree=self.root\n",
    "        if tree.value is not None:\n",
    "            print(tree.value)\n",
    "        else:\n",
    "            print(\"X_\"+str(tree.feat_ind),\"<=\",tree.thr,\"?\",tree.info_gain)\n",
    "            print(\"%sleft:\"%(indent),end=\"\")\n",
    "            self.print_tree(tree.left,indent+indent)\n",
    "            print(\"%sright:\"%(indent),end=\"\")\n",
    "            self.print_tree(tree.right,indent+indent)"
   ]
  },
  {
   "cell_type": "markdown",
   "id": "09a325b2-606d-47d3-8552-962075258ce8",
   "metadata": {},
   "source": [
    "# Train-Test split"
   ]
  },
  {
   "cell_type": "code",
   "execution_count": 6,
   "id": "a440cfd7-7717-4730-b88f-1dbd6dc37502",
   "metadata": {},
   "outputs": [],
   "source": [
    "X=data.iloc[:,:-1].values\n",
    "Y=data.iloc[:,-1].values.reshape(-1,1)\n",
    "from sklearn.model_selection import train_test_split\n",
    "X_train,X_test,Y_train,Y_test=train_test_split(X,Y,test_size=.2,random_state=41)"
   ]
  },
  {
   "cell_type": "code",
   "execution_count": 23,
   "id": "188f00c5-28b4-4c6b-9f77-2584849fdb61",
   "metadata": {},
   "outputs": [
    {
     "name": "stdout",
     "output_type": "stream",
     "text": [
      "X_2 <= 1.9 ? 0.33741385372714494\n",
      " left:Iris-setosa\n",
      " right:X_3 <= 1.5 ? 0.427106638180289\n",
      "  left:X_2 <= 4.9 ? 0.05124653739612173\n",
      "    left:Iris-versicolor\n",
      "    right:Iris-virginica\n",
      "  right:X_2 <= 5.0 ? 0.019631171921475288\n",
      "    left:X_1 <= 2.8 ? 0.20833333333333334\n",
      "        left:Iris-virginica\n",
      "        right:Iris-versicolor\n",
      "    right:Iris-virginica\n"
     ]
    }
   ],
   "source": [
    "classifier=DecisionTreeClassifier(min=3,max_depth=3)\n",
    "classifier.fit(X_train,Y_train)\n",
    "classifier.print_tree()"
   ]
  },
  {
   "cell_type": "code",
   "execution_count": 24,
   "id": "7e886fec-3f19-4a04-90ec-a8a41d08b509",
   "metadata": {},
   "outputs": [
    {
     "data": {
      "text/plain": [
       "0.9333333333333333"
      ]
     },
     "execution_count": 24,
     "metadata": {},
     "output_type": "execute_result"
    }
   ],
   "source": [
    "Y_pred=classifier.predict(X_test)\n",
    "from sklearn.metrics import accuracy_score\n",
    "accuracy_score(Y_test,Y_pred)"
   ]
  }
 ],
 "metadata": {
  "kernelspec": {
   "display_name": "Python 3 (ipykernel)",
   "language": "python",
   "name": "python3"
  },
  "language_info": {
   "codemirror_mode": {
    "name": "ipython",
    "version": 3
   },
   "file_extension": ".py",
   "mimetype": "text/x-python",
   "name": "python",
   "nbconvert_exporter": "python",
   "pygments_lexer": "ipython3",
   "version": "3.12.0"
  }
 },
 "nbformat": 4,
 "nbformat_minor": 5
}
